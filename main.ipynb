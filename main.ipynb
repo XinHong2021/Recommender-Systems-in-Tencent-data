{
 "cells": [
  {
   "cell_type": "code",
   "execution_count": 1,
   "metadata": {},
   "outputs": [],
   "source": [
    "from utils import *\n",
    "from main import *\n",
    "from model.ctr.wdl import WDL"
   ]
  },
  {
   "cell_type": "code",
   "execution_count": 8,
   "metadata": {},
   "outputs": [],
   "source": [
    "args = {\n",
    "    \"data_path\": \"data/ctr_task/demo_half.csv\",\n",
    "    \"model\": \"wdl\",\n",
    "    \"device\": \"mps\",\n",
    "    \"epochs\": 2,\n",
    "    \"lr\": 0.0005,\n",
    "    \"train_batch_size\": 4096, \n",
    "    \"test_batch_size\": 4096\n",
    "}"
   ]
  },
  {
   "cell_type": "code",
   "execution_count": 3,
   "metadata": {},
   "outputs": [],
   "source": [
    "def get_data(args):\n",
    "    data_path = args[\"data_path\"]\n",
    "    train, test, train_model_input, test_model_input, lf_columns, df_columns = ctrdataset(data_path)\n",
    "    return train, test, train_model_input, test_model_input, lf_columns, df_columns\n",
    "\n",
    "\n",
    "def get_model(args, linear_feature_columns=None, dnn_feature_columns=None, history_feature_list=None):\n",
    "    name = args[\"model\"]\n",
    "    if name == 'wdl':\n",
    "        return WDL(linear_feature_columns, dnn_feature_columns, task='binary', device=args[\"device\"])\n",
    "    else:\n",
    "        raise ValueError('unknown model name: ' + name)"
   ]
  },
  {
   "cell_type": "code",
   "execution_count": 4,
   "metadata": {},
   "outputs": [
    {
     "name": "stdout",
     "output_type": "stream",
     "text": [
      "Label Encoding ......\n"
     ]
    },
    {
     "name": "stderr",
     "output_type": "stream",
     "text": [
      "100%|██████████| 15/15 [00:04<00:00,  3.08it/s]\n"
     ]
    },
    {
     "name": "stdout",
     "output_type": "stream",
     "text": [
      "OrderedDict({'user_id': (0, 1), 'item_id': (1, 2), 'video_category': (2, 3), 'gender': (3, 4), 'age': (4, 5), 'hist_1': (5, 6), 'hist_2': (6, 7), 'hist_3': (7, 8), 'hist_4': (8, 9), 'hist_5': (9, 10), 'hist_6': (10, 11), 'hist_7': (11, 12), 'hist_8': (12, 13), 'hist_9': (13, 14), 'hist_10': (14, 15)})\n"
     ]
    }
   ],
   "source": [
    "# train是dataframe，train_model_input是字典{feature: data}\n",
    "train, test, train_model_input, test_model_input, lf_columns, df_columns = get_data(args)\n",
    "model = get_model(args, linear_feature_columns=lf_columns, dnn_feature_columns=df_columns, history_feature_list=None)"
   ]
  },
  {
   "cell_type": "code",
   "execution_count": 5,
   "metadata": {},
   "outputs": [],
   "source": [
    "model.compile(args, \"adam\", \"binary_crossentropy\",\n",
    "                    metrics=[\"auc\", \"acc\"])"
   ]
  },
  {
   "cell_type": "code",
   "execution_count": 6,
   "metadata": {},
   "outputs": [
    {
     "name": "stdout",
     "output_type": "stream",
     "text": [
      "mps\n",
      "Train on 4092535 samples, validate on 511510 samples, 1000 steps per epoch\n",
      "Epoch 1/2\n",
      "58s - loss:  0.5501 - auc:  0.7422 - acc:  0.7204 - val_auc:  0.7706 - val_acc:  0.7366\n",
      "Epoch 2/2\n",
      "56s - loss:  0.4956 - auc:  0.8060 - acc:  0.7555 - val_auc:  0.7665 - val_acc:  0.7332\n"
     ]
    }
   ],
   "source": [
    "best_model = model.fit(train_model_input, train['click'].values, batch_size=args[\"train_batch_size\"], \n",
    "                            epochs=args[\"epochs\"], verbose=2,\n",
    "                            validation_split=0.1111)"
   ]
  },
  {
   "cell_type": "code",
   "execution_count": 9,
   "metadata": {},
   "outputs": [
    {
     "name": "stdout",
     "output_type": "stream",
     "text": [
      "test LogLoss 0.5349\n",
      "test AUC 0.7652\n"
     ]
    }
   ],
   "source": [
    "pred_ans = best_model.predict(test_model_input, args['test_batch_size'])\n",
    "print(\"test LogLoss\", round(log_loss(test['click'].values, pred_ans), 4))\n",
    "print(\"test AUC\", round(roc_auc_score(test['click'].values, pred_ans), 4))"
   ]
  },
  {
   "cell_type": "markdown",
   "metadata": {},
   "source": [
    "Using DeepFM"
   ]
  },
  {
   "cell_type": "code",
   "execution_count": 10,
   "metadata": {},
   "outputs": [],
   "source": [
    "args = {\n",
    "    \"data_path\": \"data/ctr_task/demo_half.csv\",\n",
    "    \"model\": \"deepfm\",\n",
    "    \"device\": \"mps\",\n",
    "    \"epochs\": 2,\n",
    "    \"lr\": 0.0005,\n",
    "    \"train_batch_size\": 4096, \n",
    "    \"test_batch_size\": 4096\n",
    "}"
   ]
  },
  {
   "cell_type": "code",
   "execution_count": 11,
   "metadata": {},
   "outputs": [
    {
     "name": "stdout",
     "output_type": "stream",
     "text": [
      "Label Encoding ......\n"
     ]
    },
    {
     "name": "stderr",
     "output_type": "stream",
     "text": [
      "100%|██████████| 15/15 [00:04<00:00,  3.15it/s]\n"
     ]
    },
    {
     "name": "stdout",
     "output_type": "stream",
     "text": [
      "OrderedDict({'user_id': (0, 1), 'item_id': (1, 2), 'video_category': (2, 3), 'gender': (3, 4), 'age': (4, 5), 'hist_1': (5, 6), 'hist_2': (6, 7), 'hist_3': (7, 8), 'hist_4': (8, 9), 'hist_5': (9, 10), 'hist_6': (10, 11), 'hist_7': (11, 12), 'hist_8': (12, 13), 'hist_9': (13, 14), 'hist_10': (14, 15)})\n"
     ]
    },
    {
     "ename": "ValueError",
     "evalue": "unknown model name: deepfm",
     "output_type": "error",
     "traceback": [
      "\u001b[0;31m---------------------------------------------------------------------------\u001b[0m",
      "\u001b[0;31mValueError\u001b[0m                                Traceback (most recent call last)",
      "Cell \u001b[0;32mIn[11], line 3\u001b[0m\n\u001b[1;32m      1\u001b[0m \u001b[38;5;66;03m# train是dataframe，train_model_input是字典{feature: data}\u001b[39;00m\n\u001b[1;32m      2\u001b[0m train, test, train_model_input, test_model_input, lf_columns, df_columns \u001b[38;5;241m=\u001b[39m get_data(args)\n\u001b[0;32m----> 3\u001b[0m model \u001b[38;5;241m=\u001b[39m get_model(args, linear_feature_columns\u001b[38;5;241m=\u001b[39mlf_columns, dnn_feature_columns\u001b[38;5;241m=\u001b[39mdf_columns, history_feature_list\u001b[38;5;241m=\u001b[39m\u001b[38;5;28;01mNone\u001b[39;00m)\n",
      "Cell \u001b[0;32mIn[3], line 12\u001b[0m, in \u001b[0;36mget_model\u001b[0;34m(args, linear_feature_columns, dnn_feature_columns, history_feature_list)\u001b[0m\n\u001b[1;32m     10\u001b[0m     \u001b[38;5;28;01mreturn\u001b[39;00m WDL(linear_feature_columns, dnn_feature_columns, task\u001b[38;5;241m=\u001b[39m\u001b[38;5;124m'\u001b[39m\u001b[38;5;124mbinary\u001b[39m\u001b[38;5;124m'\u001b[39m, device\u001b[38;5;241m=\u001b[39margs[\u001b[38;5;124m\"\u001b[39m\u001b[38;5;124mdevice\u001b[39m\u001b[38;5;124m\"\u001b[39m])\n\u001b[1;32m     11\u001b[0m \u001b[38;5;28;01melse\u001b[39;00m:\n\u001b[0;32m---> 12\u001b[0m     \u001b[38;5;28;01mraise\u001b[39;00m \u001b[38;5;167;01mValueError\u001b[39;00m(\u001b[38;5;124m'\u001b[39m\u001b[38;5;124munknown model name: \u001b[39m\u001b[38;5;124m'\u001b[39m \u001b[38;5;241m+\u001b[39m name)\n",
      "\u001b[0;31mValueError\u001b[0m: unknown model name: deepfm"
     ]
    }
   ],
   "source": [
    "# train是dataframe，train_model_input是字典{feature: data}\n",
    "train, test, train_model_input, test_model_input, lf_columns, df_columns = get_data(args)\n",
    "model = get_model(args, linear_feature_columns=lf_columns, dnn_feature_columns=df_columns, history_feature_list=None)"
   ]
  },
  {
   "cell_type": "code",
   "execution_count": null,
   "metadata": {},
   "outputs": [],
   "source": []
  }
 ],
 "metadata": {
  "kernelspec": {
   "display_name": "base",
   "language": "python",
   "name": "python3"
  },
  "language_info": {
   "codemirror_mode": {
    "name": "ipython",
    "version": 3
   },
   "file_extension": ".py",
   "mimetype": "text/x-python",
   "name": "python",
   "nbconvert_exporter": "python",
   "pygments_lexer": "ipython3",
   "version": "3.12.4"
  }
 },
 "nbformat": 4,
 "nbformat_minor": 2
}
